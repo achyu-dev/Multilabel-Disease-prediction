{
  "nbformat": 4,
  "nbformat_minor": 0,
  "metadata": {
    "colab": {
      "provenance": [],
      "authorship_tag": "ABX9TyPVkl4QEYcgO3RFHrGJcPfw",
      "include_colab_link": true
    },
    "kernelspec": {
      "name": "python3",
      "display_name": "Python 3"
    },
    "language_info": {
      "name": "python"
    }
  },
  "cells": [
    {
      "cell_type": "markdown",
      "metadata": {
        "id": "view-in-github",
        "colab_type": "text"
      },
      "source": [
        "<a href=\"https://colab.research.google.com/github/achyu2003/Multilabel-Disease-prediction/blob/main/Parkinson_Dataset.ipynb\" target=\"_parent\"><img src=\"https://colab.research.google.com/assets/colab-badge.svg\" alt=\"Open In Colab\"/></a>"
      ]
    },
    {
      "cell_type": "markdown",
      "source": [
        "Data cleaning"
      ],
      "metadata": {
        "id": "ma45qflc1iHm"
      }
    },
    {
      "cell_type": "code",
      "source": [
        "from PIL import Image\n",
        "import os\n",
        "\n",
        "def resize(im,new_width):\n",
        "    width,height=im.size\n",
        "    ratio=height/width\n",
        "    new_height=int(ratio*new_width)\n",
        "    resized_img=im.resize((new_width,new_height))\n",
        "    return resized_img\n",
        "files=os.listdir(\"/content/mages\")\n",
        "for file in files:\n",
        "        im=Image.open(\"/content/mages/\"+file)\n",
        "        im=im.convert(\"RGB\")\n",
        "        im_resized=resize(im,300)\n",
        "        filepath = f\"/content/resizedimages/{file}.jpg\"\n",
        "        im_resized.save(filepath)\n",
        "\n",
        "\n"
      ],
      "metadata": {
        "id": "i_0dFVV355ED"
      },
      "execution_count": 11,
      "outputs": []
    }
  ]
}
